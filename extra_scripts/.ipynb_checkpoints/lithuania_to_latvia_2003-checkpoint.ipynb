{
 "cells": [
  {
   "cell_type": "code",
   "execution_count": 1,
   "metadata": {},
   "outputs": [],
   "source": [
    "import pandas as pd\n",
    "import numpy as np "
   ]
  },
  {
   "cell_type": "code",
   "execution_count": 2,
   "metadata": {},
   "outputs": [],
   "source": [
    "df = pd.read_csv(r\"..\\data\\old\\eurovision_voting_full_updated.csv\", sep = ';')"
   ]
  },
  {
   "cell_type": "code",
   "execution_count": 3,
   "metadata": {},
   "outputs": [
    {
     "data": {
      "text/plain": [
       "[13063,\n",
       " 13089,\n",
       " 13115,\n",
       " 13141,\n",
       " 13167,\n",
       " 13193,\n",
       " 13219,\n",
       " 13245,\n",
       " 13271,\n",
       " 13297,\n",
       " 13323,\n",
       " 13349,\n",
       " 13375,\n",
       " 13401,\n",
       " 13427,\n",
       " 13453,\n",
       " 13479,\n",
       " 13505,\n",
       " 13531,\n",
       " 13557,\n",
       " 13583,\n",
       " 13609,\n",
       " 13635,\n",
       " 13661,\n",
       " 13687,\n",
       " 13713]"
      ]
     },
     "execution_count": 3,
     "metadata": {},
     "output_type": "execute_result"
    }
   ],
   "source": [
    "whereToChange = list(df[(df['Year'] == 2003) & (df['To'] == 'Lithuania')].index)\n",
    "whereToChange"
   ]
  },
  {
   "cell_type": "code",
   "execution_count": 4,
   "metadata": {},
   "outputs": [],
   "source": [
    "df.loc[whereToChange]['To'] = 'Latvia'"
   ]
  },
  {
   "cell_type": "code",
   "execution_count": 5,
   "metadata": {},
   "outputs": [],
   "source": [
    "df.to_csv(\"..\\data\\eurovision_voting_full.csv\", index = False, sep = ';')"
   ]
  }
 ],
 "metadata": {
  "kernelspec": {
   "display_name": "Python 3",
   "language": "python",
   "name": "python3"
  },
  "language_info": {
   "codemirror_mode": {
    "name": "ipython",
    "version": 3
   },
   "file_extension": ".py",
   "mimetype": "text/x-python",
   "name": "python",
   "nbconvert_exporter": "python",
   "pygments_lexer": "ipython3",
   "version": "3.9.0"
  }
 },
 "nbformat": 4,
 "nbformat_minor": 4
}
